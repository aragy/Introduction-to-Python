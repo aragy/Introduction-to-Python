{
  "nbformat": 4,
  "nbformat_minor": 0,
  "metadata": {
    "colab": {
      "name": "Introdução ao Python.ipynb",
      "provenance": [],
      "authorship_tag": "ABX9TyO1OsaxfouQtK/v/M2Er4vB",
      "include_colab_link": true
    },
    "kernelspec": {
      "name": "python3",
      "display_name": "Python 3"
    },
    "language_info": {
      "name": "python"
    }
  },
  "cells": [
    {
      "cell_type": "markdown",
      "metadata": {
        "id": "view-in-github",
        "colab_type": "text"
      },
      "source": [
        "<a href=\"https://colab.research.google.com/github/aragy/Introduction-to-Python/blob/main/Introdu%C3%A7%C3%A3o_ao_Python.ipynb\" target=\"_parent\"><img src=\"https://colab.research.google.com/assets/colab-badge.svg\" alt=\"Open In Colab\"/></a>"
      ]
    },
    {
      "cell_type": "markdown",
      "source": [
        "# Introdução\n",
        "\n",
        "Python é uma das linguagens de programação mais populares e em de crescimento mais rápido do mundo. É usada para todos os tipos de tarefas, incluindo programação da Web e análise de dados. Ela surgiu como a linguagem a ser aprendida para aprendizado de máquina. Essa popularidade significa que os desenvolvedores de Python são muito procurados, e trabalhos de programação em Python podem ser lucrativos.\n",
        "\n",
        "Os motivos mencionados acima mostram por que pode ser uma boa ideia aprender a programar em Python. Este módulo apresenta uma introdução ao uso do Python para criar um aplicativo que pode ser um ponto de partida para se tornar um programador de Python."
      ],
      "metadata": {
        "id": "KeXAXNVTU_95"
      }
    },
    {
      "cell_type": "markdown",
      "source": [
        "O Python é uma das linguagens de programação mais populares do mundo. Criado no início da década de 1990, ele tem uma ampla variedade de usos, desde automatizar tarefas repetitivas e escrever aplicativos Web até criar modelos de machine learning e implementar redes neurais. Cientistas de dados, matemáticos e pesquisadores em particular gostam do Python devido à sua sintaxe avançada e fácil de entender e à grande variedade de pacotes open-source disponíveis. Pacotes são bibliotecas de códigos compartilhados comumente usados disponíveis gratuitamente para qualquer pessoa.\n",
        "\n",
        "O Python tem uma sintaxe simples, fácil de aprender que enfatiza a legibilidade. Aplicativos escritos em Python podem ser executados em praticamente qualquer computador, incluindo aqueles que executam Windows, macOS e distribuições populares do Linux. Além disso, o ecossistema contém um conjunto avançado de ferramentas de desenvolvimento para escrever, depurar e publicar aplicativos do Python.\n",
        "\n",
        "Por fim, o Python tem o suporte de uma comunidade de usuários ativa que está ávida por ajudar novos programadores a aprender o estilo do Python, em que você não apenas acerta a sintaxe, mas usa a linguagem da maneira que ela foi projetada para ser usada."
      ],
      "metadata": {
        "id": "Mg3U9lcMVLBT"
      }
    },
    {
      "cell_type": "markdown",
      "source": [
        "# Executando código do Python\n",
        "\n",
        "O Python é uma linguagem interpretada, o que reduz o ciclo de edição/teste/depuração porque não há necessidade de uma etapa de compilação. Para executar aplicativos de Python, você precisa de um ambiente de runtime/interpretador para executar o código.\n",
        "\n",
        "A maioria dos ambientes de runtime dá suporte a duas maneiras de executar código Python:\n",
        "\n",
        "\n",
        "\n",
        "\n",
        "*   **Modo Interativo**: nesse modo, cada comando que você digita é interpretado e executado imediatamente e você vê os resultados sempre que pressiona ENTER. O modo interativo será o modo padrão se você não passar um nome de arquivo para o interpretador.\n",
        "*   **Modo de script**: nesse modo, você coloca um conjunto de instruções do Python em um arquivo de texto com uma extensão .py. Em seguida, você executa o interpretador python e o aponta para o arquivo. O programa é executado linha a linha e a saída é exibida. Não há nenhuma etapa de compilação, conforme mostra o diagrama a seguir.\n",
        "\n",
        "\n"
      ],
      "metadata": {
        "id": "MHk8RzYoVTU3"
      }
    },
    {
      "cell_type": "markdown",
      "source": [
        "# O REPL do Python\n",
        "\n",
        "Python dá suporte a uma experiência de console interativo que permite que você digite os comandos e veja os resultados imediatamente. Às vezes, essa experiência é chamada de REPL ou \"Read-Eval-Print-Loop\".\n",
        "\n",
        "Para usar o REPL, digite python em seu console. Nesta etapa, você vê um prompt aguardando que você insira comandos.\n",
        "\n",
        "Com o REPL, você pode fazer a maioria das coisas que faria em um arquivo de código como, por exemplo:\n",
        "\n",
        "\n",
        "*   Executar e avaliar instruções.\n",
        "*   Declarar variáveis e funções.\n",
        "*  Usar a ajuda interna\n",
        "\n",
        "\n"
      ],
      "metadata": {
        "id": "lbD_xCOxVsn7"
      }
    },
    {
      "cell_type": "markdown",
      "source": [
        "# IPython Notebook \n",
        "\n",
        "Um Notebook se parece com um caderno, onde será escrito uma história. Essa história é narrada em partes e segue um fluxo lógico, desde a introdução até a conclusão. Como os projetos de ciência de dados envolvem resolver um problema de negócio, precisamos escrever uma história com os objetivos, possíveis soluções do problema e a conclusão que chegamos através da exploração dos dados.\n",
        "\n",
        "Temos a opção de criar blocos de texto e blocos de código no Notebook. Cada bloco é conhecido como uma célula do Notebook.\n",
        "\n",
        "Através dos blocos de texto, podemos explicar o contexto, o objetivo do nosso projeto, o conhecimento que está sendo extraído dos dados e as conclusões, ou seja, as possíveis soluções para o problema que estamos tentando resolver, ou até mesmo se ainda não conseguimos chegar a nenhuma solução.\n",
        "\n",
        "Também é possível explorar o conjunto de dados, fazer o tratamento e limpeza, criar gráficos representativos, entre outras coisas. As saídas ou resultados de cada um desses blocos de código podem ser verificados logo abaixo de cada um dos códigos. Além disso, não é necessário rodar todo o seu código anterior todas as vezes, uma vez que o processo fica armazenado na memória e as células vão funcionar de uma forma um pouco independente.\n",
        "\n",
        "Este tutorial está sendo escrito em um notebook.\n",
        "\n",
        "Atualmente há várias implementações de ambientes que permitem a utilização do python através do notebook:\n",
        "\n",
        "*   Jupyter Notebook:  é um ambiente que oferece essa abordagem de Notebooks, com um visual simples e muito fácil de utilizar. Pode ser utilizado através de uma instalação de um servidor local(Instalando o Anaconda, o jupyter será instalado também) ou de ambientes online(https://jupyter.org/try-jupyter/lab/)\n",
        "*   VScode(https://code.visualstudio.com/docs/datascience/jupyter-notebooks)\n",
        "* Google Collaboratory(https://colab.research.google.com)\n",
        "* Spyder, \n",
        "* RStudio, \n",
        "* JupyterLab\n",
        "\n",
        "\n",
        "\n"
      ],
      "metadata": {
        "id": "pm-SQR3QXMkV"
      }
    },
    {
      "cell_type": "markdown",
      "source": [
        "# Variáveis e tipos de dados básicos em Python\n",
        "\n",
        "As variáveis são uma das bases fundamentais de programas escritos em Python. Variáveis contêm dados na memória. Elas têm nomes e podem ser referenciadas por nome. As variáveis também têm tipos que especificam o tipo de dados que podem armazenar, como cadeias de caracteres e inteiros, e podem ser usadas em expressões que usam operadores como e para manipular os valores delas.\n"
      ],
      "metadata": {
        "id": "hUcSFQ8CYAif"
      }
    },
    {
      "cell_type": "markdown",
      "source": [
        "## Variáveis\n",
        "\n",
        "No Python, uma variável é declarada e recebe um valor usando o operador de atribuição =. A variável à qual está sendo feita a atribuição está no lado esquerdo do operador e o valor que está sendo atribuído, que pode ser uma expressão como 2 + 2 e até mesmo incluir outras variáveis, está no lado direito:"
      ],
      "metadata": {
        "id": "t1iBu-oIaiRf"
      }
    },
    {
      "cell_type": "code",
      "execution_count": 1,
      "metadata": {
        "id": "QSL2fzTbU1Ai"
      },
      "outputs": [],
      "source": [
        "x = 1         # atribuindo 1 à variável x\n"
      ]
    },
    {
      "cell_type": "code",
      "source": [
        "y = x + 5     # atribuindo x+5 à y\n",
        "z = y         # atribuindo y à z"
      ],
      "metadata": {
        "id": "I2jxooAq4rJE"
      },
      "execution_count": 9,
      "outputs": []
    },
    {
      "cell_type": "code",
      "source": [
        "x"
      ],
      "metadata": {
        "colab": {
          "base_uri": "https://localhost:8080/"
        },
        "id": "KZ9cRc6B31Xx",
        "outputId": "af7a282f-7694-4c13-a3f1-6e7b39541c0c"
      },
      "execution_count": 7,
      "outputs": [
        {
          "output_type": "execute_result",
          "data": {
            "text/plain": [
              "2"
            ]
          },
          "metadata": {},
          "execution_count": 7
        }
      ]
    },
    {
      "cell_type": "code",
      "source": [
        "y"
      ],
      "metadata": {
        "colab": {
          "base_uri": "https://localhost:8080/"
        },
        "id": "Z2TY2zYf4BSv",
        "outputId": "659037ce-0e20-4dea-e859-915e7ad151a3"
      },
      "execution_count": 3,
      "outputs": [
        {
          "output_type": "execute_result",
          "data": {
            "text/plain": [
              "6"
            ]
          },
          "metadata": {},
          "execution_count": 3
        }
      ]
    },
    {
      "cell_type": "code",
      "source": [
        "z"
      ],
      "metadata": {
        "colab": {
          "base_uri": "https://localhost:8080/"
        },
        "id": "sQPJ0g264DNq",
        "outputId": "ceea4ccf-0211-4900-cbd2-b59a0e953b0d"
      },
      "execution_count": 10,
      "outputs": [
        {
          "output_type": "execute_result",
          "data": {
            "text/plain": [
              "7"
            ]
          },
          "metadata": {},
          "execution_count": 10
        }
      ]
    },
    {
      "cell_type": "code",
      "source": [
        "x = 2"
      ],
      "metadata": {
        "id": "d0pFea-y4Mqz"
      },
      "execution_count": 5,
      "outputs": []
    },
    {
      "cell_type": "code",
      "source": [
        "x"
      ],
      "metadata": {
        "colab": {
          "base_uri": "https://localhost:8080/"
        },
        "id": "7y-srxXM4Snv",
        "outputId": "40dda46b-e767-40e7-8e40-9f85fd629c70"
      },
      "execution_count": 6,
      "outputs": [
        {
          "output_type": "execute_result",
          "data": {
            "text/plain": [
              "2"
            ]
          },
          "metadata": {},
          "execution_count": 6
        }
      ]
    },
    {
      "cell_type": "code",
      "source": [
        "a, b = 1,2"
      ],
      "metadata": {
        "id": "4GUtS67H5e7F"
      },
      "execution_count": 11,
      "outputs": []
    },
    {
      "cell_type": "code",
      "source": [
        "a"
      ],
      "metadata": {
        "colab": {
          "base_uri": "https://localhost:8080/"
        },
        "id": "L6TygoyV5lbi",
        "outputId": "77c64d16-d53c-43a1-ce35-dc2610d4bfbd"
      },
      "execution_count": 12,
      "outputs": [
        {
          "output_type": "execute_result",
          "data": {
            "text/plain": [
              "1"
            ]
          },
          "metadata": {},
          "execution_count": 12
        }
      ]
    },
    {
      "cell_type": "code",
      "source": [
        "b"
      ],
      "metadata": {
        "colab": {
          "base_uri": "https://localhost:8080/"
        },
        "id": "-xBbjx1n5nBc",
        "outputId": "97600ba2-226f-4a3c-90d9-30efa452a693"
      },
      "execution_count": 13,
      "outputs": [
        {
          "output_type": "execute_result",
          "data": {
            "text/plain": [
              "2"
            ]
          },
          "metadata": {},
          "execution_count": 13
        }
      ]
    },
    {
      "cell_type": "code",
      "source": [
        "a, b = b , a  # troca os valores de a e b"
      ],
      "metadata": {
        "id": "_ZqfVbSN5pzW"
      },
      "execution_count": 14,
      "outputs": []
    },
    {
      "cell_type": "code",
      "source": [
        "a"
      ],
      "metadata": {
        "colab": {
          "base_uri": "https://localhost:8080/"
        },
        "id": "ZhNsM18y5wna",
        "outputId": "1870df60-236f-4827-b777-1c6e1176d60b"
      },
      "execution_count": 15,
      "outputs": [
        {
          "output_type": "execute_result",
          "data": {
            "text/plain": [
              "2"
            ]
          },
          "metadata": {},
          "execution_count": 15
        }
      ]
    },
    {
      "cell_type": "code",
      "source": [
        "b"
      ],
      "metadata": {
        "colab": {
          "base_uri": "https://localhost:8080/"
        },
        "id": "qC7xQpOn5yqv",
        "outputId": "dc83606a-0a9d-4394-f779-a471f9bf6d10"
      },
      "execution_count": 16,
      "outputs": [
        {
          "output_type": "execute_result",
          "data": {
            "text/plain": [
              "1"
            ]
          },
          "metadata": {},
          "execution_count": 16
        }
      ]
    },
    {
      "cell_type": "code",
      "source": [
        "type(x)"
      ],
      "metadata": {
        "colab": {
          "base_uri": "https://localhost:8080/"
        },
        "id": "gw2A5JA55_Dk",
        "outputId": "6b9f324b-c933-4a2a-c0fb-23e24ce278b5"
      },
      "execution_count": 17,
      "outputs": [
        {
          "output_type": "execute_result",
          "data": {
            "text/plain": [
              "int"
            ]
          },
          "metadata": {},
          "execution_count": 17
        }
      ]
    },
    {
      "cell_type": "code",
      "source": [
        "x ='a'"
      ],
      "metadata": {
        "id": "5txMvW0-6HRe"
      },
      "execution_count": 18,
      "outputs": []
    },
    {
      "cell_type": "code",
      "source": [
        "type(x)"
      ],
      "metadata": {
        "colab": {
          "base_uri": "https://localhost:8080/"
        },
        "id": "8YHfcNqq6KXx",
        "outputId": "691428eb-2d39-4b30-aa8e-78a99e7e09c7"
      },
      "execution_count": 19,
      "outputs": [
        {
          "output_type": "execute_result",
          "data": {
            "text/plain": [
              "str"
            ]
          },
          "metadata": {},
          "execution_count": 19
        }
      ]
    },
    {
      "cell_type": "code",
      "source": [
        "X  # python é case sensitive"
      ],
      "metadata": {
        "colab": {
          "base_uri": "https://localhost:8080/",
          "height": 172
        },
        "id": "IxPQlQsz6bNB",
        "outputId": "5ca6b098-6ad5-4636-f635-ae2aeb38691a"
      },
      "execution_count": 20,
      "outputs": [
        {
          "output_type": "error",
          "ename": "NameError",
          "evalue": "ignored",
          "traceback": [
            "\u001b[0;31m---------------------------------------------------------------------------\u001b[0m",
            "\u001b[0;31mNameError\u001b[0m                                 Traceback (most recent call last)",
            "\u001b[0;32m<ipython-input-20-b5fec669aca1>\u001b[0m in \u001b[0;36m<module>\u001b[0;34m()\u001b[0m\n\u001b[0;32m----> 1\u001b[0;31m \u001b[0mX\u001b[0m\u001b[0;34m\u001b[0m\u001b[0;34m\u001b[0m\u001b[0m\n\u001b[0m",
            "\u001b[0;31mNameError\u001b[0m: name 'X' is not defined"
          ]
        }
      ]
    },
    {
      "cell_type": "markdown",
      "source": [
        "Esses exemplos atribuem números de variáveis, mas números são apenas um dos vários tipos de dados compatíveis com Python. Observe que há nenhum tipo declarado para as variáveis. Isso ocorre porque o Python é uma **linguagem dinamicamente tipada**, o que significa que o tipo de variável é determinado pelos dados atribuídos a ela. Nos exemplos acima, as variáveis x, y e z serão tipos de inteiro, capazes de armazenar números inteiros positivos e negativos.\n",
        "\n",
        "Nomes de variáveis diferenciam maiúsculas de minúsculas e podem usar qualquer letra, número e o caractere de sublinhado (_), no entanto, não podem começar com um número."
      ],
      "metadata": {
        "id": "pgZdpNWsawjO"
      }
    },
    {
      "cell_type": "markdown",
      "source": [
        "\n",
        "## Palavras reservadas\n",
        "\n",
        "É importante ressaltar que nem toda palavra pode ser usada como nome de uma variável em Python. Existem algumas regras.\n",
        "\n",
        "Nomes de variáveis em Python podem conter caracteres alfanuméricos (a-z, A-Z, 0-9) e alguns caracteres especiais, como o _.\n",
        "\n",
        "Por convenção, nomes de variáveis começam com letra minúscula.\n",
        "\n",
        "Existem palavras reservadas em Python (elas são parte do vocabulário da linguagem), que não podem ser usadas como nomes de variáveis:\n",
        "\n",
        "**and** , **as**, **assert**, **break**, **class**, **continue**, **def**, **del**, **elif**, **else**, **except**,\n",
        "**exec**, **finally**, **for**, **from**, **global**, **if**, **import**, **in**, **is**, **lambda**, **not**, **or**,\n",
        "**pass**, **print**, **raise**, **return**, **try**, **while**, **with**, **yield** \n",
        "\n",
        "Na próxima seção veremos mais exemplos do uso de variáveis para armazenar resultados de operações com os tipos básicos da linguagem e entenderemos melhor o funcionamento desses tipos.\n"
      ],
      "metadata": {
        "id": "8ZuhH8TopfsL"
      }
    },
    {
      "cell_type": "code",
      "source": [
        "A=3"
      ],
      "metadata": {
        "id": "0V6vpBqR7M8T"
      },
      "execution_count": 33,
      "outputs": []
    },
    {
      "cell_type": "code",
      "source": [
        "a=1"
      ],
      "metadata": {
        "id": "-RhId2z37Ou1"
      },
      "execution_count": 30,
      "outputs": []
    },
    {
      "cell_type": "code",
      "source": [
        "print(A)\n",
        "print(a)"
      ],
      "metadata": {
        "colab": {
          "base_uri": "https://localhost:8080/"
        },
        "id": "moQgfX-87qxk",
        "outputId": "b209d104-9351-4d30-ad13-5919145bc276"
      },
      "execution_count": 31,
      "outputs": [
        {
          "output_type": "stream",
          "name": "stdout",
          "text": [
            "1\n",
            "1\n"
          ]
        }
      ]
    },
    {
      "cell_type": "code",
      "source": [
        "print(id(A))\n",
        "print(id(a))"
      ],
      "metadata": {
        "colab": {
          "base_uri": "https://localhost:8080/"
        },
        "id": "X8FhAwEV7fPQ",
        "outputId": "124cb79d-2c5c-48f9-bf02-5837254561f4"
      },
      "execution_count": 34,
      "outputs": [
        {
          "output_type": "stream",
          "name": "stdout",
          "text": [
            "94184071166528\n",
            "94184071166464\n"
          ]
        }
      ]
    },
    {
      "cell_type": "markdown",
      "source": [
        "## Trabalhando com números\n",
        "\n",
        "A maioria dos programas manipula números. Computadores tratam números inteiros e números decimais de forma diferente. Considere o seguinte código:"
      ],
      "metadata": {
        "id": "P2bId-89a6yS"
      }
    },
    {
      "cell_type": "code",
      "source": [
        "x = 1       # integer\n"
      ],
      "metadata": {
        "id": "w_clD4_5bAOt"
      },
      "execution_count": 35,
      "outputs": []
    },
    {
      "cell_type": "code",
      "source": [
        "x = 1.0     # decimal (floating point)"
      ],
      "metadata": {
        "id": "f7gQLLwlkmpX"
      },
      "execution_count": 36,
      "outputs": []
    },
    {
      "cell_type": "markdown",
      "source": [
        "O Python cria números inteiros de um tipo de dados interno chamado int e decimais (números de ponto flutuante) como instâncias de float. A função type() interna do Python retorna um tipo de dados. O código a seguir gera tipos na tela:"
      ],
      "metadata": {
        "id": "IS0vO0xebEQV"
      }
    },
    {
      "cell_type": "code",
      "source": [
        "x = 1\n",
        "print(type(x)) "
      ],
      "metadata": {
        "id": "g2ngTpWZbF6M",
        "colab": {
          "base_uri": "https://localhost:8080/"
        },
        "outputId": "8e71156d-bcee-4696-99f3-65aeb47a1322"
      },
      "execution_count": 37,
      "outputs": [
        {
          "output_type": "stream",
          "name": "stdout",
          "text": [
            "<class 'int'>\n"
          ]
        }
      ]
    },
    {
      "cell_type": "code",
      "source": [
        "x = 1.0\n",
        "print(type(x)) "
      ],
      "metadata": {
        "id": "QIwlQ5L8bLqO",
        "colab": {
          "base_uri": "https://localhost:8080/"
        },
        "outputId": "877bed23-432e-428e-930a-0be21d29167e"
      },
      "execution_count": 38,
      "outputs": [
        {
          "output_type": "stream",
          "name": "stdout",
          "text": [
            "<class 'float'>\n"
          ]
        }
      ]
    },
    {
      "cell_type": "markdown",
      "source": [
        "A adição do \".0\" ao final de \"1\" faz uma grande diferença na forma como a linguagem de programação trata um valor. O tipo de dados afeta como o valor é armazenado na memória, como o processador (CPU) lida com os dados ao avaliar expressões, como os dados se relacionam com outros dados e que tipos de operações podem ser executados com ele."
      ],
      "metadata": {
        "id": "nKDDVz0lbOqM"
      }
    },
    {
      "cell_type": "markdown",
      "source": [
        "## Imprimir\n",
        "\n",
        "No Python, a função print, que é uma das mais de 60 funções integradas à linguagem, gera texto na tela.\n",
        "\n",
        "A instrução a seguir exibe \"Olá, Mundo!\" na tela:"
      ],
      "metadata": {
        "id": "ktOl1DV5b1IN"
      }
    },
    {
      "cell_type": "code",
      "source": [
        "print('Hello World!')"
      ],
      "metadata": {
        "id": "kjfO7vH4cLoy",
        "colab": {
          "base_uri": "https://localhost:8080/"
        },
        "outputId": "e6aee759-1c00-47ff-9288-6361d61fc7c8"
      },
      "execution_count": 39,
      "outputs": [
        {
          "output_type": "stream",
          "name": "stdout",
          "text": [
            "Hello World!\n"
          ]
        }
      ]
    },
    {
      "cell_type": "code",
      "source": [
        "print(type(x))"
      ],
      "metadata": {
        "colab": {
          "base_uri": "https://localhost:8080/"
        },
        "id": "bdbbnRqR9yYx",
        "outputId": "37e995ab-b930-4b67-849f-cfbea68b1ca6"
      },
      "execution_count": 40,
      "outputs": [
        {
          "output_type": "stream",
          "name": "stdout",
          "text": [
            "<class 'float'>\n"
          ]
        }
      ]
    },
    {
      "cell_type": "code",
      "source": [
        "print(x,y, type(x), type(y))\n",
        "print(a,b)"
      ],
      "metadata": {
        "colab": {
          "base_uri": "https://localhost:8080/"
        },
        "id": "vtrF92Z592AZ",
        "outputId": "763e3c9b-b5f6-4d8d-8a6f-9a8de3174192"
      },
      "execution_count": 44,
      "outputs": [
        {
          "output_type": "stream",
          "name": "stdout",
          "text": [
            "1.0 7 <class 'float'> <class 'int'>\n",
            "1 1\n"
          ]
        }
      ]
    },
    {
      "cell_type": "markdown",
      "source": [
        "O argumento passado para print é uma print, que é um dos tipos de dados fundamentais em Python usados para armazenar e gerenciar texto. Por padrão, print produz um caractere de nova linha no final da linha para que chamadas subsequentes para print comecem na próxima linha."
      ],
      "metadata": {
        "id": "upxJr86OcMQV"
      }
    },
    {
      "cell_type": "markdown",
      "source": [
        "**Assinatura do print**\n",
        "\n",
        "print(object(s), sep=separator, end=end, file=file, flush=flush) "
      ],
      "metadata": {
        "id": "srgY7wfB-gZ9"
      }
    },
    {
      "cell_type": "code",
      "source": [
        "print(x,y)#sep = ' ' end = '\\n'\n",
        "print(x,y, sep= '-')\n",
        "print(x,y, end= '\\t' ) # não quebra linha, tabula\n",
        "print(x,y )"
      ],
      "metadata": {
        "colab": {
          "base_uri": "https://localhost:8080/"
        },
        "id": "4Ly9sKH6-yEJ",
        "outputId": "ac115d8f-af2b-4e04-a19c-a3ffa2f3d6e8"
      },
      "execution_count": 46,
      "outputs": [
        {
          "output_type": "stream",
          "name": "stdout",
          "text": [
            "1.0 7\n",
            "1.0-7\n",
            "1.0 7\t1.0 7\n"
          ]
        }
      ]
    },
    {
      "cell_type": "markdown",
      "source": [
        "## Entrada do usuário\n",
        "\n",
        "Para ler a entrada do teclado, o Python fornece a função input(). input() lê o que o usuário digita no teclado e o retorna como uma cadeia de caracteres. Aqui está um exemplo que combina input() e print() para capturar o nome de uma pessoa e, em seguida, exibi-lo na tela:\n"
      ],
      "metadata": {
        "id": "rHcKJYy_cYbO"
      }
    },
    {
      "cell_type": "code",
      "source": [
        "name = input('Entre com o seu nome:')\n",
        "print(name)"
      ],
      "metadata": {
        "id": "yX80CiOUceSE",
        "colab": {
          "base_uri": "https://localhost:8080/"
        },
        "outputId": "11052a94-56ee-4d09-a283-9813168ab4a6"
      },
      "execution_count": 49,
      "outputs": [
        {
          "output_type": "stream",
          "name": "stdout",
          "text": [
            "Entre com o seu nome:Aragy\n",
            "Aragy\n"
          ]
        }
      ]
    },
    {
      "cell_type": "markdown",
      "source": [
        "A cadeia de caracteres passada como um argumento para a função input é o aviso que o usuário verá. Neste exemplo, você está solicitando que o usuário digite o próprio nome ('Insira seu nome'). Depois que o usuário digita um nome e pressiona Enter, a função será retornada. O valor retornado da função é o texto digitado pelo usuário e esse texto é atribuído à variável chamada name. A variável name então é usada como uma entrada ou um argumento para a função print, que produzirá o nome que o usuário inseriu.\n",
        "\n",
        "Você também pode chamar a função input sem um parâmetro:"
      ],
      "metadata": {
        "id": "6oIwD9yJcjzF"
      }
    },
    {
      "cell_type": "code",
      "source": [
        "print('Qual o seu nome?')\n",
        "name = input()\n",
        "print(name)"
      ],
      "metadata": {
        "id": "COVA5bpZckuw",
        "colab": {
          "base_uri": "https://localhost:8080/"
        },
        "outputId": "6ffd53e1-d1f1-48d4-da37-1bc5b10afabe"
      },
      "execution_count": 53,
      "outputs": [
        {
          "output_type": "stream",
          "name": "stdout",
          "text": [
            "Aragy\n",
            "Aragy\n"
          ]
        }
      ]
    },
    {
      "cell_type": "markdown",
      "source": [
        "Este programa se comportará quase da mesma maneira que o primeiro. A diferença é que print (por padrão) adiciona uma nova linha à saída."
      ],
      "metadata": {
        "id": "Z8DAXOZrcsy9"
      }
    },
    {
      "cell_type": "markdown",
      "source": [
        "## Lendo números como entrada\n",
        "\n",
        "A função input sempre retorna o valor digitado como uma input (texto). Essa escolha faz sentido, porque o usuário poderá inserir qualquer valor que desejar. Mesmo que a entrada seja um número válido, ela ainda será retornada como um tipo de cadeia de caracteres da função . Por exemplo:\n"
      ],
      "metadata": {
        "id": "O1ETPuWvcwlP"
      }
    },
    {
      "cell_type": "code",
      "source": [
        "x = input('Entre com um numero: ')\n",
        "print(type(x))"
      ],
      "metadata": {
        "id": "_Wc6bSAac2EE",
        "colab": {
          "base_uri": "https://localhost:8080/"
        },
        "outputId": "1a3c535a-8ad3-4cbd-c8a1-3fa85c4021d0"
      },
      "execution_count": 54,
      "outputs": [
        {
          "output_type": "stream",
          "name": "stdout",
          "text": [
            "Entre com um numero: 3\n",
            "<class 'str'>\n"
          ]
        }
      ]
    },
    {
      "cell_type": "code",
      "source": [
        "x"
      ],
      "metadata": {
        "colab": {
          "base_uri": "https://localhost:8080/",
          "height": 36
        },
        "id": "2wNf-aWpAd-d",
        "outputId": "e4be46e4-46f5-4f6c-efff-7b633fb100b2"
      },
      "execution_count": 55,
      "outputs": [
        {
          "output_type": "execute_result",
          "data": {
            "text/plain": [
              "'3'"
            ],
            "application/vnd.google.colaboratory.intrinsic+json": {
              "type": "string"
            }
          },
          "metadata": {},
          "execution_count": 55
        }
      ]
    },
    {
      "cell_type": "markdown",
      "source": [
        "Executar esse código e inserir o valor '5' exibirá <class 'str'>, embora o valor em si seja numérico. Para transformar o valor em uma variável de inteiro verdadeira, você pode usar a função int():"
      ],
      "metadata": {
        "id": "XuqUOE0Zc63G"
      }
    },
    {
      "cell_type": "code",
      "source": [
        "x = int(input('Enter a number: '))\n",
        "print(type(x))"
      ],
      "metadata": {
        "id": "jtENB13qc80A",
        "colab": {
          "base_uri": "https://localhost:8080/"
        },
        "outputId": "4ee0d5f7-009e-423e-b61e-da4c475d5f64"
      },
      "execution_count": 56,
      "outputs": [
        {
          "output_type": "stream",
          "name": "stdout",
          "text": [
            "Enter a number: 5\n",
            "<class 'int'>\n"
          ]
        }
      ]
    },
    {
      "cell_type": "code",
      "source": [
        "x"
      ],
      "metadata": {
        "colab": {
          "base_uri": "https://localhost:8080/"
        },
        "id": "cQwMpMKjAnuE",
        "outputId": "55be5029-1380-4a0e-dabe-ce68f5a36f77"
      },
      "execution_count": 57,
      "outputs": [
        {
          "output_type": "execute_result",
          "data": {
            "text/plain": [
              "5"
            ]
          },
          "metadata": {},
          "execution_count": 57
        }
      ]
    },
    {
      "cell_type": "markdown",
      "source": [
        "Esse código produzirá <class 'int'> para o valor '5'. Você pode usar a função float da mesma forma se esperar um componente fracionário."
      ],
      "metadata": {
        "id": "z2Sf7Z_oc-a0"
      }
    },
    {
      "cell_type": "markdown",
      "source": [
        "## Convertendo números em cadeias de caracteres\n",
        "\n",
        "Você também pode fazer o contrário. O método str() adotará um valor inteiro ou flutuante e o transformará em uma cadeia de caracteres. Será necessário chamar o método str() se você quiser que o exemplo de código abaixo funcione. A conversão garante que o inteiro, no respectivo formulário de cadeia de caracteres, seja concatenado à cadeia de caracteres à esquerda."
      ],
      "metadata": {
        "id": "0NpNo0MvdB9J"
      }
    },
    {
      "cell_type": "code",
      "source": [
        "x = 5\n",
        "print('O numero é ' + x)"
      ],
      "metadata": {
        "id": "VDNEzaJTdG_o",
        "colab": {
          "base_uri": "https://localhost:8080/",
          "height": 191
        },
        "outputId": "017ceab3-9984-4273-dd9d-f5eac1dfbf21"
      },
      "execution_count": 58,
      "outputs": [
        {
          "output_type": "error",
          "ename": "TypeError",
          "evalue": "ignored",
          "traceback": [
            "\u001b[0;31m---------------------------------------------------------------------------\u001b[0m",
            "\u001b[0;31mTypeError\u001b[0m                                 Traceback (most recent call last)",
            "\u001b[0;32m<ipython-input-58-5c2c3412f2c6>\u001b[0m in \u001b[0;36m<module>\u001b[0;34m()\u001b[0m\n\u001b[1;32m      1\u001b[0m \u001b[0mx\u001b[0m \u001b[0;34m=\u001b[0m \u001b[0;36m5\u001b[0m\u001b[0;34m\u001b[0m\u001b[0;34m\u001b[0m\u001b[0m\n\u001b[0;32m----> 2\u001b[0;31m \u001b[0mprint\u001b[0m\u001b[0;34m(\u001b[0m\u001b[0;34m'O numero é '\u001b[0m \u001b[0;34m+\u001b[0m \u001b[0mx\u001b[0m\u001b[0;34m)\u001b[0m\u001b[0;34m\u001b[0m\u001b[0;34m\u001b[0m\u001b[0m\n\u001b[0m",
            "\u001b[0;31mTypeError\u001b[0m: can only concatenate str (not \"int\") to str"
          ]
        }
      ]
    },
    {
      "cell_type": "code",
      "source": [
        "print('O numero é ' + str(x))"
      ],
      "metadata": {
        "colab": {
          "base_uri": "https://localhost:8080/"
        },
        "id": "-T9W0aGUA2SF",
        "outputId": "2a611e18-bc9f-4378-9f82-927404e0b136"
      },
      "execution_count": 59,
      "outputs": [
        {
          "output_type": "stream",
          "name": "stdout",
          "text": [
            "O numero é 5\n"
          ]
        }
      ]
    },
    {
      "cell_type": "markdown",
      "source": [
        "# Exercício – criar uma calculadora\n",
        "\n"
      ],
      "metadata": {
        "id": "utJNi3Raf3kr"
      }
    },
    {
      "cell_type": "code",
      "source": [
        "first_number = ?\n",
        "second_number = ?\n",
        "print(?) # a Soma é : {valor}"
      ],
      "metadata": {
        "id": "9V4YuN32gARV"
      },
      "execution_count": null,
      "outputs": []
    },
    {
      "cell_type": "markdown",
      "source": [
        "# Operações com Tipos Básicos\n",
        "\n",
        "Python possui vários tipos básicos ou fundamentais: números inteiros, números de ponto flutuante, booleanos, números complexos, cadeias de caracteres, etc."
      ],
      "metadata": {
        "id": "yPnI7ZZHgfGB"
      }
    },
    {
      "cell_type": "markdown",
      "source": [
        "## Números inteiros\n",
        "\n",
        "Os tipos de variáveis em Python são inferidos automaticamente pelo interpretador, sem que haja a necessidade de se especificar o tipo da variável no momento de sua declaração. Os exemplos abaixo deixarão esses conceitos mais claros.\n",
        "\n",
        "## Números de ponto flutuante\n",
        "\n",
        "Se o nome ponto flutuante te assusta, não se preocupe. Números de ponto flutuante nada mais são que números com vírgula, ou como costumamos dizer \"números quebrados\", constrastando com os números inteiros com os quais estamos mais acostumados. Vejamos alguns exemplos de expressões com números de ponto flutuante.\n",
        "\n"
      ],
      "metadata": {
        "id": "slh8o15OglSB"
      }
    },
    {
      "cell_type": "code",
      "source": [
        "x = 10\n",
        "y = 2.5\n",
        "resultado = x * y\n",
        "print(resultado)\n",
        "print(type(resultado))"
      ],
      "metadata": {
        "id": "dmiS-GyVgzcG"
      },
      "execution_count": null,
      "outputs": []
    },
    {
      "cell_type": "markdown",
      "source": [
        "## Conversão de tipos\n",
        "\n",
        "O exemplo acima mostra uma conversão implícita entre tipos. Apesar de a expressão envolver uma variável do tipo int (a variável x) e uma variável do tipo float (a variável y), o resultado da expressão x * y é implicitamente convertido para o tipo float.\n",
        "\n",
        "Existem também conversões explicitas de tipos em Python. Por exemplo, se quisermos que o resultado a expressão acima seja um número inteiro, podemos \"forçar\" que isso aconteça usando uma conversão explicita de dados:\n"
      ],
      "metadata": {
        "id": "irhsEfJqg1x7"
      }
    },
    {
      "cell_type": "code",
      "source": [
        "x = 10\n",
        "y = 2.5\n",
        "resultado = int(x * y)\n",
        "print(resultado)\n",
        "print(type(resultado))"
      ],
      "metadata": {
        "id": "cDuL8u6kg30C"
      },
      "execution_count": null,
      "outputs": []
    },
    {
      "cell_type": "markdown",
      "source": [
        "## Variáveis booleanas\n",
        "\n",
        "Outro nome que representa algo bem simples (mas que costuma assustar as pessoas) é o nome variáveis booleanas. Essas variáveis nada mais são do que uma forma de se armazenar um valor lógico, ou seja, verdadeiro ou falso, que, em Python, são representados como True e False, respectivamente.\n",
        "\n",
        "\n"
      ],
      "metadata": {
        "id": "Ani-FPwwhW87"
      }
    },
    {
      "cell_type": "markdown",
      "source": [
        "Internamente, bool é tratado como um tipo especial de inteiro. Tecnicamente, True tem um valor de 1 e False tem um valor de 0. Normalmente, boolianos não são usados para executar operações matemáticas; em vez disso, eles são usados para tomar decisões e executar ramificação. No entanto, é interessante entender a relação entre tipos. Muitos tipos são nada mais do que versões especializadas de tipos mais gerais. Inteiros são um subconjunto dos números de ponto flutuante. Boolianos são um subconjunto de inteiros.\n",
        "\n",
        "No exemplo abaixo, criamos uma variável booleana e imprimimos o tipo dessa variável."
      ],
      "metadata": {
        "id": "yYjxG0-cbemW"
      }
    },
    {
      "cell_type": "code",
      "source": [
        "# Variáveis booleanas (verdadeiro/falso)\n",
        "a = True\n",
        "print(type(a))"
      ],
      "metadata": {
        "id": "_DdgtZdThtMq"
      },
      "execution_count": null,
      "outputs": []
    },
    {
      "cell_type": "markdown",
      "source": [
        "# Operadores e Expressões em Python\n",
        "\n",
        "## Operadores Aritméticos\n",
        "\n",
        "A linguagem Python nos permite criar expressões matemáticas com imensa facilidade. No dia a dia, nem todos os programas precisarão de expressões matemáticas complexas, mas é importante saber como usar os operadores aritméticos do Python.\n",
        "\n",
        "Vejamos alguns exemplos de expressões matemáticas em Python.\n"
      ],
      "metadata": {
        "id": "1MXCgx0NiBOx"
      }
    },
    {
      "cell_type": "code",
      "source": [
        "# Soma e subtração\n",
        "print(10 + 2 - 7)\n",
        "\n",
        "# Potência: 2 ^ 4\n",
        "print(2 ** 4)\n",
        "\n",
        "# Divisão de ponto flutuante\n",
        "print(20 / 6)\n",
        "\n",
        "# Divisão inteira, sem considerar o resto\n",
        "print(20 // 6)"
      ],
      "metadata": {
        "id": "h0z_e9OaiJ_-"
      },
      "execution_count": null,
      "outputs": []
    },
    {
      "cell_type": "markdown",
      "source": [
        "\n",
        "\n",
        "O operador / realiza divisão de ponto flutuante em Python 3, e o operador // realiza divisão inteira. Em Python 2 esse mesmo operador realizava divisão inteira. Então é importante ficar atento a esta diferença quando se está programando. Para descobrir a versão do Python que você está usando, basta digitar no terminal (ou prompt de comandos, se você está usando o Windows): python --version.\n",
        "\n",
        "Se quisermos exibir só o resto da divisão, usamos o operador %, como mostrado abaixo:\n"
      ],
      "metadata": {
        "id": "GnOTQBJCiMus"
      }
    },
    {
      "cell_type": "code",
      "source": [
        "20 % 6 # Resto da divisão"
      ],
      "metadata": {
        "id": "eX1c36R3iPcc"
      },
      "execution_count": null,
      "outputs": []
    },
    {
      "cell_type": "markdown",
      "source": [
        "Expressões matemáticas em Python podem obedecem as mesmas regras de sinal com as quais estamos acostumados:"
      ],
      "metadata": {
        "id": "hYAqsnmTiUKj"
      }
    },
    {
      "cell_type": "code",
      "source": [
        "1 * -2 * 3 * -4 * 5 * -6"
      ],
      "metadata": {
        "id": "lyKsGt8GiUv4"
      },
      "execution_count": null,
      "outputs": []
    },
    {
      "cell_type": "markdown",
      "source": [
        "\n",
        "\n",
        "Como vimos nos exemplos acima, a maioria dos operadores e operações em Python se comportam como os operadores e operações da Matemática:\n",
        "\n",
        "    Operadores aritméticos: +, -, , /, // (divisão inteira), * (potência)\n",
        "\n",
        "A tabela abaixo resume o funcionamento dos operadores aritméticos em Python:\n"
      ],
      "metadata": {
        "id": "G0G8Zdjyiahk"
      }
    },
    {
      "cell_type": "markdown",
      "source": [
        "|Operador |\tDescrição |\tExemplo|\n",
        "| --- | --- | --- |\n",
        "|+ | soma dois valores | 5 + 2 resulta em 7|\n",
        "|- | subtrai dois valores | 5 - 2 resulta em 3 |\n",
        "| * | multiplica dois valores | 5 * 2 resulta em 10 |\n",
        "| / | divide dois valores (sem arredondar) | 5 / 2 resulta em 2.5 |\n",
        "| // | divide dois valores (arredondando para baixo) | 5 // 2 resulta em 2 |\n",
        "| % | resto da divisão | 5 % 2 resulta em 1 |\n",
        "| ** | exponenciação | 5 ** 2 resulta em 25 |"
      ],
      "metadata": {
        "id": "i2bgxVXOifbd"
      }
    },
    {
      "cell_type": "markdown",
      "source": [
        "## Operadores Lógicos\n",
        "\n",
        "O próximo tipo de primitiva da linguagem Python que estudaremos são os operadores lógicos. Os mais importantes são: and, not, e or.\n",
        "\n",
        "A tabela abaixo resume o funcionamento dos operadores lógicos em Python:\n"
      ],
      "metadata": {
        "id": "ip4zlUZAmnk9"
      }
    },
    {
      "cell_type": "markdown",
      "source": [
        "| Operador |   Descrição  |\n",
        "|:--------:|:------------:|\n",
        "| and      | \"e\" lógico   |\n",
        "| or       | \"ou\" lógico  |\n",
        "| not      | \"não\" lógico |"
      ],
      "metadata": {
        "id": "nXOpOu7WmqYv"
      }
    },
    {
      "cell_type": "markdown",
      "source": [
        "AND\n",
        "\n",
        "| P     | Q     | Result |\n",
        "|-------|-------|--------|\n",
        "|  True | True  | True   |\n",
        "| True  | False | False  |\n",
        "| False | True  | False  |\n",
        "| False | False | False  |"
      ],
      "metadata": {
        "id": "CRes77qYnJpR"
      }
    },
    {
      "cell_type": "markdown",
      "source": [
        "OR \n",
        "\n",
        "| P     | Q     | Result |\n",
        "|-------|-------|--------|\n",
        "|  True | True  | True   |\n",
        "| True  | False | True   |\n",
        "| False | True  | True   |\n",
        "| False | False | False  |"
      ],
      "metadata": {
        "id": "EfhgxlLvnojf"
      }
    },
    {
      "cell_type": "markdown",
      "source": [
        "NOT\n",
        "\n",
        "| P     | Result |\n",
        "|-------|--------|\n",
        "| True  | False  |\n",
        "| False | True   |"
      ],
      "metadata": {
        "id": "OrgFYoKpn2PM"
      }
    },
    {
      "cell_type": "code",
      "source": [
        "P = True\n",
        "Q = True\n",
        "\n",
        "P and Q"
      ],
      "metadata": {
        "id": "tSFuNW_xlcfP"
      },
      "execution_count": null,
      "outputs": []
    },
    {
      "cell_type": "markdown",
      "source": [
        "**Operadores Relacionais**\n",
        "\n",
        "Python possui também operadores relacionais (de comparação), como os da matemática: <, >, <=, >=, ==, !=.\n",
        "\n",
        "A tabela abaixo resume o funcionamento dos operadores de comparação em Python. Nela assumimos que estamos fazendo a operador b, ou seja, que estamos aplicando um operador a dois operandos, a e b.\n"
      ],
      "metadata": {
        "id": "2W-UsHmRoENg"
      }
    },
    {
      "cell_type": "markdown",
      "source": [
        "| Operador |            Descrição           |         Exemplo         |\n",
        "|:--------:|:------------------------------:|:-----------------------:|\n",
        "| ==       | True se a e b são iguais       | 5 == 2 resulta em False |\n",
        "| !=       | True se a e b são diferentes   | 5 != 2 resulta em True  |\n",
        "| >        | True se a é maior que b        | 5 > 2 resulta em True   |\n",
        "| <        | True se a é menor que b        | 5 < 2 resulta em False  |\n",
        "| >=       | True se a é maior ou igual a b | 5 >= 2 resulta em True  |\n",
        "| <=       | True se a é menor ou igual a b | 5 ⇐ 2 resulta em False  |"
      ],
      "metadata": {
        "id": "Ck9r_lp8oWaR"
      }
    },
    {
      "cell_type": "markdown",
      "source": [
        "\n",
        "\n",
        "Talvez os únicos operadores acima que podem causar dúvidas são os seguintes:\n",
        "\n",
        "* == (teste de igualdade): testa se duas coisas são iguais. Por exemplo 10 == 10 retorna True e abacate == melancia retorna False. Tome cuidado: não confunda o operador == (teste de igualdade) com o operador = (operador de atribuição). Este último é usado para atribuir um valor a uma variável. Por exemplo: a = 20. É muito comum as pessoas confundirem esses operadores, principalmente em condicionais (if e else).\n",
        "\n",
        "* != (teste de diferença): este operador simplesmente testa se dois valores são diferentes. Exemplo: 10 != 20 retorna True. Ele é o oposto do operador ==.\n",
        "\n"
      ],
      "metadata": {
        "id": "aL9GfPu7oYFJ"
      }
    },
    {
      "cell_type": "markdown",
      "source": [
        "\n",
        "Operadores de Atribuição\n",
        "\n",
        "Você já vem usando o principal operador de atribuição do Python (o operador =), mas existem outros operadores desse tipo:\n",
        "\n",
        "* =: operador de atribuição. Dada uma variável x, ao fazermos x = valor atribuímos o valor à variável x. Deste momento em diante, x é um sinônimo de valor. Por exemplo, se fizermos x = 5, ao imprimir x, o valor 5 será impresso.\n",
        "\n",
        "* +=: é equivalente a fazer x = x + valor. Por exemplo, se x valer 10 e fizermos x += 2, x passará a ter o valor 12.\n",
        "\n",
        "* -=, =, /=, //=, %=, *=: funcionam da mesma forma que o +=. Por exemplo, se x valer 5 e fizermos x *= 3 obteremos o valor 15. Na prática, o funcionamento desses operadores é o seguinte: x op= valor é equivalente a x = x op valor, em que op é algum dos operadores listados anteriormente.\n",
        "\n"
      ],
      "metadata": {
        "id": "diOoTAfdoiZm"
      }
    },
    {
      "cell_type": "markdown",
      "source": [
        "Precedência de Operadores\n",
        "\n",
        "Quando criamos uma expressão em Python, existe em uma ordem em que as subexpressões são avaliadas. Essa ordem é determinada por algo que chamamos de precedência de operadores.\n",
        "\n",
        "Por exemplo, se tivermos a expressão a ** 2 + b * 3 % 2, e assumirmos que a = 4 e b = 3 antes de avaliarmos a expressão, teremos a seguinte sequência de operações:\n",
        "\n",
        "* a ** 2 + b * 3 % 2: expressão original.\n",
        "\n",
        "* 4 ** 2 + 3 * 3 % 2: os valores de a e b são substituídos no lugar das variáveis.\n",
        "\n",
        "* 16 + 3 * 3 % 2: a expressão de potenciação é avaliada (4 ** 2 = 16). Ela é a primeira a ser avaliada porque possui a maior precedência.\n",
        "\n",
        "* 16 + 9 % 2: a expressão 3 * 3 é avaliada. O operador é avaliado antes do % simplesmente porque apareceu antes na expressão. Tanto o operador quanto o % possuem a mesma precedência. Quando dois operadores possuem a mesma precedência, o que aparece primeiro (mais à esquerda) na expressão é avaliado primeiro.\n",
        "\n",
        "* 16 + 1: a expressão 9 % 2 é avaliada, pois o operador % possui maior precedência que o operador +.\n",
        "\n",
        "*   17: a expressão 16 + 1 é avaliada.\n",
        "\n"
      ],
      "metadata": {
        "id": "cnG2CFD3opBu"
      }
    },
    {
      "cell_type": "markdown",
      "source": [
        "A tabela a seguir resume a precedência dos principais operadores da linguagem Python:"
      ],
      "metadata": {
        "id": "d3UZut6go87b"
      }
    },
    {
      "cell_type": "markdown",
      "source": [
        "|            Operador           |\n",
        "|:-----------------------------:|\n",
        "| **                            |\n",
        "| *  /  %  //                   |\n",
        "| +  -                          |\n",
        "| <=  <  >  >=                  |\n",
        "| ==  !=                        |\n",
        "| =  %=  /=  //=  -=  +=  =  *= |\n",
        "| not  or  and                  |"
      ],
      "metadata": {
        "id": "mu5odw13o7F8"
      }
    },
    {
      "cell_type": "markdown",
      "source": [
        "\n",
        "\n",
        "É possível inserir parênteses em expressões para indicar a ordem na qual sub-expressões devem ser avaliadas. Por exemplo, se tivermos a expressão 5 * 4 + 3, teremos como resultado o valor 23, pois o operador de multiplicação possui maior precedência que o operador de soma, portanto a multiplicação será realizada primeiro. Se quisermos que a soma seja realizada primeiro, podemos escrever 5 * (4 + 3), que dará 35 como resultado. Uma forma de ver isso é como se os parênteses tivessem maior precedência que todos os outros operadores, então o que está dentro deles será avaliado primeiro.\n",
        "\n",
        "Ufa! Chegamos ao final desta seção! Vimos muita coisa, mas precisamos dessa base para avançarmos para os tópicos mais interessantes. Em breve estaremos escrevendo programas não-triviais em Python!\n"
      ],
      "metadata": {
        "id": "9aNj_GwIo-6o"
      }
    },
    {
      "cell_type": "markdown",
      "source": [
        "Exercícios\n",
        "\n",
        "Qual será o resultado da expressão abaixo?\n",
        "\n"
      ],
      "metadata": {
        "id": "ND7rG3KvpDYH"
      }
    },
    {
      "cell_type": "code",
      "source": [
        "2 + 3 * 5 + 30 // 10"
      ],
      "metadata": {
        "id": "z1qiWxgGpFuq"
      },
      "execution_count": null,
      "outputs": []
    },
    {
      "cell_type": "markdown",
      "source": [
        "Qual será o resultado da expressão abaixo?"
      ],
      "metadata": {
        "id": "zzDsTMg6pG8c"
      }
    },
    {
      "cell_type": "code",
      "source": [
        "True or False and not True"
      ],
      "metadata": {
        "id": "GPkxNHMzpIb7"
      },
      "execution_count": null,
      "outputs": []
    },
    {
      "cell_type": "markdown",
      "source": [
        "# Manipulação de Strings em Python\n",
        "\n",
        "Um tipo de dados bastante usado no dia a dia são as strings, ou cadeias de caracteres (ou sequências de caracteres). O tipo de dados string, ou str como é chamado em Python, possui várias operações úteis associadas a ele. Essas operações tornam Python uma linguagem bastante propícia para manipulação de textos.\n",
        "\n",
        "Os exemplos abaixo ilustram o tipo de dados string e as operações associadas a ele.\n"
      ],
      "metadata": {
        "id": "fqOdscwUqN8X"
      }
    },
    {
      "cell_type": "code",
      "source": [
        "s = 'Isso é uma String'\n",
        "print(s) \n",
        "print(type(s)) "
      ],
      "metadata": {
        "id": "yAE3DO43bosm"
      },
      "execution_count": null,
      "outputs": []
    },
    {
      "cell_type": "markdown",
      "source": [
        "Cadeias de caracteres podem ser adicionadas a outras cadeias de caracteres (uma operação conhecida como \"concatenação\") com o mesmo operador + que adiciona dois números:"
      ],
      "metadata": {
        "id": "0cAevb-Ybyan"
      }
    },
    {
      "cell_type": "code",
      "source": [
        "s = 'Hello' + ' ' + 'World!'\n",
        "print(s) "
      ],
      "metadata": {
        "id": "jdtkvwCgb4T6"
      },
      "execution_count": null,
      "outputs": []
    },
    {
      "cell_type": "markdown",
      "source": [
        "Outras operações com String:"
      ],
      "metadata": {
        "id": "x454mtS8qx9w"
      }
    },
    {
      "cell_type": "code",
      "source": [
        "# Tamanho de uma string.\n",
        "len(s)"
      ],
      "metadata": {
        "id": "N5LIeCGNq1J0"
      },
      "execution_count": null,
      "outputs": []
    },
    {
      "cell_type": "code",
      "source": [
        "# Substitui uma substring por alguma outra coisa.\n",
        "s1 = s.replace(\"mundo\", \"meu abacate\")\n",
        "\n",
        "print(s1)"
      ],
      "metadata": {
        "id": "BNwxK7rUq-ul"
      },
      "execution_count": null,
      "outputs": []
    },
    {
      "cell_type": "code",
      "source": [
        "# A string s começa com \"Olá\"?\n",
        "print(s.startswith(\"Olá\"))"
      ],
      "metadata": {
        "id": "HIEMYDoxrBpo"
      },
      "execution_count": null,
      "outputs": []
    },
    {
      "cell_type": "code",
      "source": [
        "# A string s termina com \"mundo\"?\n",
        "print(s.endswith(\"mundo\"))"
      ],
      "metadata": {
        "id": "Avx6P67LrFuq"
      },
      "execution_count": null,
      "outputs": []
    },
    {
      "cell_type": "code",
      "source": [
        "# Quantas ocorrências da palavra \"abacate\" a string s1 possui?\n",
        "print(s1.count(\"abacate\"))"
      ],
      "metadata": {
        "id": "AkVwhReCrGO6"
      },
      "execution_count": null,
      "outputs": []
    },
    {
      "cell_type": "markdown",
      "source": [
        "Strings em Python são muito flexíveis e nos permitem executar as mais diversas operações de maneira simples. Vejamos mais exemplos:"
      ],
      "metadata": {
        "id": "W_c1TJIarLBC"
      }
    },
    {
      "cell_type": "code",
      "source": [
        "# Como \"capitalizar\" (transformar a primeira letra da primeira palavra em maiúscula).\n",
        "s = \"ordem e progresso\"\n",
        "print(s.capitalize())"
      ],
      "metadata": {
        "id": "bvIMgtQXrMb4"
      },
      "execution_count": null,
      "outputs": []
    },
    {
      "cell_type": "code",
      "source": [
        "# Como verificar se uma string só possui números.\n",
        "'12345'.isdigit()\n",
        "'12345abc'.isdigit()"
      ],
      "metadata": {
        "id": "kY8aAQXqrNyk"
      },
      "execution_count": null,
      "outputs": []
    },
    {
      "cell_type": "code",
      "source": [
        "# Como verificar se uma string é alfanumérica (só possui letras e números).\n",
        "'12345abc'.isalnum()"
      ],
      "metadata": {
        "id": "MrhaCx1WrO9o"
      },
      "execution_count": null,
      "outputs": []
    },
    {
      "cell_type": "markdown",
      "source": [
        "## Substrings em Python (Slicing)\n",
        "\n",
        "Além das operações vistas acima, podemos acessar caracteres específicos de uma string em Python usando a notação []. Neste esquema de acesso a caracteres de uma string, o primeiro caracter está no índice 0\n",
        ", o segundo no índice 1, e assim por diante, conforme ilustrado no exemplo abaixo."
      ],
      "metadata": {
        "id": "VQ9TPQ8ZrRw2"
      }
    },
    {
      "cell_type": "code",
      "source": [
        "s = \"Olá, mundo!\"\n",
        "print(s[0])\n",
        "print(s[2])\n",
        "print(s[6])"
      ],
      "metadata": {
        "id": "-oznj5pdrU4G"
      },
      "execution_count": null,
      "outputs": []
    },
    {
      "cell_type": "markdown",
      "source": [
        "Podemos também acessar os elementos em ordem reversa usando índices negativos. Neste esquema, o último caracter de uma string está no índice −1, o penúltimo no índice −2, e assim por diante, como mostrado no exemplo abaixo.\n"
      ],
      "metadata": {
        "id": "TUoAYBVmrY8I"
      }
    },
    {
      "cell_type": "code",
      "source": [
        "s = \"Olá, mundo!\"\n",
        "print(s[-1])\n",
        "print(s[-2])\n",
        "print(s[-4])"
      ],
      "metadata": {
        "id": "rAPoDM8Srcqt"
      },
      "execution_count": null,
      "outputs": []
    },
    {
      "cell_type": "markdown",
      "source": [
        "\n",
        "\n",
        "Podemos também acessar fatias ou \"slices\" de uma string ou lista em Python. Esta notação é muito concisa e poderosa, então é importante que você a entenda bem.\n",
        "\n",
        "Segundo essa notação, uma fatia de uma string, ou seja, uma substring, pode ser acessada se fornecermos os índices do começo e do final da fatia que desejamos analisar, como mostrado abaixo:\n"
      ],
      "metadata": {
        "id": "qfVGnojRrfrq"
      }
    },
    {
      "cell_type": "code",
      "source": [
        "s[1:3]"
      ],
      "metadata": {
        "id": "z4eLTcHTrgnF"
      },
      "execution_count": null,
      "outputs": []
    },
    {
      "cell_type": "markdown",
      "source": [
        "\n",
        "\n",
        "Note que, como mencionamos anteriormente, os índices de uma string começam do 0 e não do 1.\n",
        "\n",
        "Além disso, perceba que o índice do final da fatia não é incluído nela. No exemplo acima, o [1:3] nos retornou dois caracteres e não três. Foram retornados o caracter no índice 1\n",
        "e o caracter no índice 2, mas não o caracter no índice 3.\n",
        "\n",
        "Se omitirmos o índice de ínicio da fatia ou o de final (ou ambos), o ínicio e o final da string serão considerados, respectivamente. Veja os exemplos:\n"
      ],
      "metadata": {
        "id": "wTwRQZ-wrjNn"
      }
    },
    {
      "cell_type": "code",
      "source": [
        "s = \"Olá, mundo!\"\n",
        "print(s[:3])\n",
        "\n"
      ],
      "metadata": {
        "id": "1A6fZdbQrmZm"
      },
      "execution_count": null,
      "outputs": []
    },
    {
      "cell_type": "code",
      "source": [
        "print(s[5:])\n",
        "\n"
      ],
      "metadata": {
        "id": "tIg8fLHup58F"
      },
      "execution_count": null,
      "outputs": []
    },
    {
      "cell_type": "code",
      "source": [
        "# Retorna toda a string\n",
        "print(s[:])"
      ],
      "metadata": {
        "id": "-a2IPFV4p7Wa"
      },
      "execution_count": null,
      "outputs": []
    },
    {
      "cell_type": "markdown",
      "source": [
        "É possível ainda especificar um parâmetro que indica quantos caracteres devem ser processados de cada vez. Por exemplo, se quisermos imprimir somente os caracteres nos índices pares ou ímpares de uma string, podemos fazer assim:"
      ],
      "metadata": {
        "id": "oQYyol3hrqXZ"
      }
    },
    {
      "cell_type": "code",
      "source": [
        "s = \"Olá, mundo!\"\n",
        "print(s[::2]) # Imprime os caracteres nos índices pares\n",
        "print(s[1::2]) # Imprime os caracteres nos índices ímpares"
      ],
      "metadata": {
        "id": "nVmwD6uQrrrC"
      },
      "execution_count": null,
      "outputs": []
    },
    {
      "cell_type": "markdown",
      "source": [
        "Um outro exemplo útil do uso da técnica de slicing para manipulação de strings é inverter uma palavra ou frase usando somente operações de slicing:"
      ],
      "metadata": {
        "id": "6o4zPVMrruiR"
      }
    },
    {
      "cell_type": "code",
      "source": [
        "frase = \"Mundo mundo vasto mundo\"\n",
        "print(frase[::-1])"
      ],
      "metadata": {
        "id": "XpNVgYSHrvi9"
      },
      "execution_count": null,
      "outputs": []
    },
    {
      "cell_type": "markdown",
      "source": [
        "No exemplo acima, usamos um terceiro parâmetro do recurso de slicing para indicar que retornamos toda a frase (os ::) e logo em seguida dizemos que faremos isso de trás para frente (por meio do −1 no final). Mais especificamente, o −1\n",
        "\n",
        "indica que estamos saltando um caracter de cada vez, começando de trás para frente (o que é feito por meio do sinal de menos).\n",
        "\n",
        "Então, para resumir, a sintaxe de slicing de strings é a seguinte [início:fim:salto], onde:\n",
        "\n",
        "\n",
        "\n",
        "* início é o primeiro índice a ser considerado (o primeiro caracter da string é considerado caso este valor seja omitido);\n",
        "\n",
        "* fim - 1 é o último índice a ser considerado (o último caracter da string é considerado caso este valor seja omitido); e\n",
        "\n",
        "* salto indica quantos caracteres devem ser saltados em cada etapa (o valor 1\n",
        "é considerado por padrão, e um sinal de menos deve ser usado para percorrer a string em ordem reversa)."
      ],
      "metadata": {
        "id": "MBqSPQUUryHb"
      }
    },
    {
      "cell_type": "markdown",
      "source": [
        "## Formatação de strings em Python\n",
        "\n",
        "Os exemplos abaixo mostram as várias opções de formatação de strings.\n"
      ],
      "metadata": {
        "id": "r71rri3Dr7Mr"
      }
    },
    {
      "cell_type": "code",
      "source": [
        "# A função print concatena strings com um espaço entre elas.\n",
        "print(\"Admirável\", \"Mundo\", \"Novo\")"
      ],
      "metadata": {
        "id": "Ys-0HVG_r_zW"
      },
      "execution_count": null,
      "outputs": []
    },
    {
      "cell_type": "code",
      "source": [
        "# A função print converte números para strings.\n",
        "print(1984, \"George Orwell\")"
      ],
      "metadata": {
        "id": "c0D5Jay1sBNH"
      },
      "execution_count": null,
      "outputs": []
    },
    {
      "cell_type": "code",
      "source": [
        "# As strings somadas com + são concatenadas sem espaços entre elas.\n",
        "print(\"#\" + \"Programando\" + \"Em\" + \"Python\")"
      ],
      "metadata": {
        "id": "KCZ4AaaAsCTz"
      },
      "execution_count": null,
      "outputs": []
    },
    {
      "cell_type": "code",
      "source": [
        "# Forma mais avançada de formatação de strings\n",
        "frase = 'Um triângulo de base igual a {0} e altura igual a {1} possui área igual a {2}.'.format(3, 4, 12)\n",
        "print(frase)"
      ],
      "metadata": {
        "id": "MLTYl7yvsEyK"
      },
      "execution_count": null,
      "outputs": []
    },
    {
      "cell_type": "markdown",
      "source": [
        "As versões mais novas do Python introduziram um recurso chamado f-strings, que melhoram ainda mais a formatação de strings. Vejamos um exemplo:"
      ],
      "metadata": {
        "id": "58Cb8-rksJVx"
      }
    },
    {
      "cell_type": "code",
      "source": [
        "# Formatação de strings com f-strings\n",
        "linguagem = \"Python\"\n",
        "f\"Programando em {linguagem}\"\n",
        "print(frase)"
      ],
      "metadata": {
        "id": "HSJQHevNsKto"
      },
      "execution_count": null,
      "outputs": []
    }
  ]
}